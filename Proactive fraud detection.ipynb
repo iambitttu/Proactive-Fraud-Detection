{
 "cells": [
  {
   "cell_type": "code",
   "execution_count": 223,
   "id": "b7d51b6c",
   "metadata": {},
   "outputs": [],
   "source": [
    "#import all necessary libraries\n",
    "import matplotlib.pyplot as plt\n",
    "import seaborn as sns\n",
    "from sklearn import linear_model\n",
    "import numpy as np\n",
    "import pandas as pd\n",
    "import warnings\n",
    "warnings.filterwarnings(\"ignore\")\n",
    "from sklearn.metrics import accuracy_score, f1_score, plot_confusion_matrix,classification_report, roc_curve, auc,confusion_matrix"
   ]
  },
  {
   "cell_type": "code",
   "execution_count": 322,
   "id": "09f4d676",
   "metadata": {},
   "outputs": [],
   "source": [
    "#load the datset\n",
    "df = pd.read_csv('fraud.csv', chunksize=1900000)"
   ]
  },
  {
   "cell_type": "code",
   "execution_count": 324,
   "id": "b0115d64",
   "metadata": {},
   "outputs": [
    {
     "name": "stdout",
     "output_type": "stream",
     "text": [
      "(1900000, 11)\n",
      "(1900000, 11)\n",
      "(1900000, 11)\n",
      "(662620, 11)\n"
     ]
    }
   ],
   "source": [
    "for chunks in df:\n",
    "    print(chunks.shape)"
   ]
  },
  {
   "cell_type": "code",
   "execution_count": 325,
   "id": "de43d5f4",
   "metadata": {},
   "outputs": [],
   "source": [
    "df = chunks"
   ]
  },
  {
   "cell_type": "code",
   "execution_count": 326,
   "id": "b5c34993",
   "metadata": {},
   "outputs": [
    {
     "data": {
      "text/html": [
       "<div>\n",
       "<style scoped>\n",
       "    .dataframe tbody tr th:only-of-type {\n",
       "        vertical-align: middle;\n",
       "    }\n",
       "\n",
       "    .dataframe tbody tr th {\n",
       "        vertical-align: top;\n",
       "    }\n",
       "\n",
       "    .dataframe thead th {\n",
       "        text-align: right;\n",
       "    }\n",
       "</style>\n",
       "<table border=\"1\" class=\"dataframe\">\n",
       "  <thead>\n",
       "    <tr style=\"text-align: right;\">\n",
       "      <th></th>\n",
       "      <th>step</th>\n",
       "      <th>type</th>\n",
       "      <th>amount</th>\n",
       "      <th>nameOrig</th>\n",
       "      <th>oldbalanceOrg</th>\n",
       "      <th>newbalanceOrig</th>\n",
       "      <th>nameDest</th>\n",
       "      <th>oldbalanceDest</th>\n",
       "      <th>newbalanceDest</th>\n",
       "      <th>isFraud</th>\n",
       "      <th>isFlaggedFraud</th>\n",
       "    </tr>\n",
       "  </thead>\n",
       "  <tbody>\n",
       "    <tr>\n",
       "      <th>6314978</th>\n",
       "      <td>687</td>\n",
       "      <td>CASH_OUT</td>\n",
       "      <td>70302.56</td>\n",
       "      <td>C1999493761</td>\n",
       "      <td>0.00</td>\n",
       "      <td>0.00</td>\n",
       "      <td>C1016706162</td>\n",
       "      <td>3004023.20</td>\n",
       "      <td>3074325.76</td>\n",
       "      <td>0</td>\n",
       "      <td>0</td>\n",
       "    </tr>\n",
       "    <tr>\n",
       "      <th>5717561</th>\n",
       "      <td>398</td>\n",
       "      <td>CASH_OUT</td>\n",
       "      <td>216816.28</td>\n",
       "      <td>C795766743</td>\n",
       "      <td>0.00</td>\n",
       "      <td>0.00</td>\n",
       "      <td>C521882515</td>\n",
       "      <td>1411745.85</td>\n",
       "      <td>1628562.13</td>\n",
       "      <td>0</td>\n",
       "      <td>0</td>\n",
       "    </tr>\n",
       "    <tr>\n",
       "      <th>5834631</th>\n",
       "      <td>402</td>\n",
       "      <td>CASH_OUT</td>\n",
       "      <td>52013.04</td>\n",
       "      <td>C671421202</td>\n",
       "      <td>41788.00</td>\n",
       "      <td>0.00</td>\n",
       "      <td>C1355619309</td>\n",
       "      <td>0.00</td>\n",
       "      <td>52013.04</td>\n",
       "      <td>0</td>\n",
       "      <td>0</td>\n",
       "    </tr>\n",
       "    <tr>\n",
       "      <th>5866163</th>\n",
       "      <td>403</td>\n",
       "      <td>CASH_IN</td>\n",
       "      <td>120518.67</td>\n",
       "      <td>C347825290</td>\n",
       "      <td>8544304.81</td>\n",
       "      <td>8664823.48</td>\n",
       "      <td>C1620168250</td>\n",
       "      <td>151405.84</td>\n",
       "      <td>30887.17</td>\n",
       "      <td>0</td>\n",
       "      <td>0</td>\n",
       "    </tr>\n",
       "    <tr>\n",
       "      <th>6185755</th>\n",
       "      <td>567</td>\n",
       "      <td>CASH_OUT</td>\n",
       "      <td>212174.83</td>\n",
       "      <td>C289316372</td>\n",
       "      <td>0.00</td>\n",
       "      <td>0.00</td>\n",
       "      <td>C1694062659</td>\n",
       "      <td>1695519.37</td>\n",
       "      <td>1907694.19</td>\n",
       "      <td>0</td>\n",
       "      <td>0</td>\n",
       "    </tr>\n",
       "  </tbody>\n",
       "</table>\n",
       "</div>"
      ],
      "text/plain": [
       "         step      type     amount     nameOrig  oldbalanceOrg  \\\n",
       "6314978   687  CASH_OUT   70302.56  C1999493761           0.00   \n",
       "5717561   398  CASH_OUT  216816.28   C795766743           0.00   \n",
       "5834631   402  CASH_OUT   52013.04   C671421202       41788.00   \n",
       "5866163   403   CASH_IN  120518.67   C347825290     8544304.81   \n",
       "6185755   567  CASH_OUT  212174.83   C289316372           0.00   \n",
       "\n",
       "         newbalanceOrig     nameDest  oldbalanceDest  newbalanceDest  isFraud  \\\n",
       "6314978            0.00  C1016706162      3004023.20      3074325.76        0   \n",
       "5717561            0.00   C521882515      1411745.85      1628562.13        0   \n",
       "5834631            0.00  C1355619309            0.00        52013.04        0   \n",
       "5866163      8664823.48  C1620168250       151405.84        30887.17        0   \n",
       "6185755            0.00  C1694062659      1695519.37      1907694.19        0   \n",
       "\n",
       "         isFlaggedFraud  \n",
       "6314978               0  \n",
       "5717561               0  \n",
       "5834631               0  \n",
       "5866163               0  \n",
       "6185755               0  "
      ]
     },
     "execution_count": 326,
     "metadata": {},
     "output_type": "execute_result"
    }
   ],
   "source": [
    "#see sample of the dataset\n",
    "df.sample(5)"
   ]
  },
  {
   "cell_type": "code",
   "execution_count": 327,
   "id": "77764c85",
   "metadata": {},
   "outputs": [
    {
     "name": "stdout",
     "output_type": "stream",
     "text": [
      "<class 'pandas.core.frame.DataFrame'>\n",
      "RangeIndex: 662620 entries, 5700000 to 6362619\n",
      "Data columns (total 11 columns):\n",
      " #   Column          Non-Null Count   Dtype  \n",
      "---  ------          --------------   -----  \n",
      " 0   step            662620 non-null  int64  \n",
      " 1   type            662620 non-null  object \n",
      " 2   amount          662620 non-null  float64\n",
      " 3   nameOrig        662620 non-null  object \n",
      " 4   oldbalanceOrg   662620 non-null  float64\n",
      " 5   newbalanceOrig  662620 non-null  float64\n",
      " 6   nameDest        662620 non-null  object \n",
      " 7   oldbalanceDest  662620 non-null  float64\n",
      " 8   newbalanceDest  662620 non-null  float64\n",
      " 9   isFraud         662620 non-null  int64  \n",
      " 10  isFlaggedFraud  662620 non-null  int64  \n",
      "dtypes: float64(5), int64(3), object(3)\n",
      "memory usage: 55.6+ MB\n"
     ]
    }
   ],
   "source": [
    "df.info()"
   ]
  },
  {
   "cell_type": "code",
   "execution_count": 328,
   "id": "1059ee58",
   "metadata": {},
   "outputs": [
    {
     "data": {
      "text/plain": [
       "False    662620\n",
       "dtype: int64"
      ]
     },
     "execution_count": 328,
     "metadata": {},
     "output_type": "execute_result"
    }
   ],
   "source": [
    "df.duplicated().value_counts()"
   ]
  },
  {
   "cell_type": "code",
   "execution_count": 329,
   "id": "e23c83ed",
   "metadata": {},
   "outputs": [
    {
     "data": {
      "text/html": [
       "<div>\n",
       "<style scoped>\n",
       "    .dataframe tbody tr th:only-of-type {\n",
       "        vertical-align: middle;\n",
       "    }\n",
       "\n",
       "    .dataframe tbody tr th {\n",
       "        vertical-align: top;\n",
       "    }\n",
       "\n",
       "    .dataframe thead th {\n",
       "        text-align: right;\n",
       "    }\n",
       "</style>\n",
       "<table border=\"1\" class=\"dataframe\">\n",
       "  <thead>\n",
       "    <tr style=\"text-align: right;\">\n",
       "      <th></th>\n",
       "      <th>step</th>\n",
       "      <th>amount</th>\n",
       "      <th>oldbalanceOrg</th>\n",
       "      <th>newbalanceOrig</th>\n",
       "      <th>oldbalanceDest</th>\n",
       "      <th>newbalanceDest</th>\n",
       "      <th>isFraud</th>\n",
       "      <th>isFlaggedFraud</th>\n",
       "    </tr>\n",
       "  </thead>\n",
       "  <tbody>\n",
       "    <tr>\n",
       "      <th>count</th>\n",
       "      <td>662620.000000</td>\n",
       "      <td>6.626200e+05</td>\n",
       "      <td>6.626200e+05</td>\n",
       "      <td>6.626200e+05</td>\n",
       "      <td>6.626200e+05</td>\n",
       "      <td>6.626200e+05</td>\n",
       "      <td>662620.000000</td>\n",
       "      <td>662620.000000</td>\n",
       "    </tr>\n",
       "    <tr>\n",
       "      <th>mean</th>\n",
       "      <td>496.740452</td>\n",
       "      <td>1.680283e+05</td>\n",
       "      <td>7.537256e+05</td>\n",
       "      <td>7.689377e+05</td>\n",
       "      <td>1.196791e+06</td>\n",
       "      <td>1.288611e+06</td>\n",
       "      <td>0.005717</td>\n",
       "      <td>0.000018</td>\n",
       "    </tr>\n",
       "    <tr>\n",
       "      <th>std</th>\n",
       "      <td>101.902434</td>\n",
       "      <td>4.109657e+05</td>\n",
       "      <td>2.552330e+06</td>\n",
       "      <td>2.578379e+06</td>\n",
       "      <td>4.109849e+06</td>\n",
       "      <td>4.175612e+06</td>\n",
       "      <td>0.075392</td>\n",
       "      <td>0.004256</td>\n",
       "    </tr>\n",
       "    <tr>\n",
       "      <th>min</th>\n",
       "      <td>398.000000</td>\n",
       "      <td>0.000000e+00</td>\n",
       "      <td>0.000000e+00</td>\n",
       "      <td>0.000000e+00</td>\n",
       "      <td>0.000000e+00</td>\n",
       "      <td>0.000000e+00</td>\n",
       "      <td>0.000000</td>\n",
       "      <td>0.000000</td>\n",
       "    </tr>\n",
       "    <tr>\n",
       "      <th>25%</th>\n",
       "      <td>403.000000</td>\n",
       "      <td>1.305841e+04</td>\n",
       "      <td>0.000000e+00</td>\n",
       "      <td>0.000000e+00</td>\n",
       "      <td>0.000000e+00</td>\n",
       "      <td>0.000000e+00</td>\n",
       "      <td>0.000000</td>\n",
       "      <td>0.000000</td>\n",
       "    </tr>\n",
       "    <tr>\n",
       "      <th>50%</th>\n",
       "      <td>474.000000</td>\n",
       "      <td>7.065667e+04</td>\n",
       "      <td>1.593800e+04</td>\n",
       "      <td>0.000000e+00</td>\n",
       "      <td>1.075769e+05</td>\n",
       "      <td>1.854002e+05</td>\n",
       "      <td>0.000000</td>\n",
       "      <td>0.000000</td>\n",
       "    </tr>\n",
       "    <tr>\n",
       "      <th>75%</th>\n",
       "      <td>573.000000</td>\n",
       "      <td>2.012567e+05</td>\n",
       "      <td>1.076580e+05</td>\n",
       "      <td>1.410075e+05</td>\n",
       "      <td>9.073872e+05</td>\n",
       "      <td>1.045937e+06</td>\n",
       "      <td>0.000000</td>\n",
       "      <td>0.000000</td>\n",
       "    </tr>\n",
       "    <tr>\n",
       "      <th>max</th>\n",
       "      <td>743.000000</td>\n",
       "      <td>1.541594e+07</td>\n",
       "      <td>5.958504e+07</td>\n",
       "      <td>4.958504e+07</td>\n",
       "      <td>3.560159e+08</td>\n",
       "      <td>3.561793e+08</td>\n",
       "      <td>1.000000</td>\n",
       "      <td>1.000000</td>\n",
       "    </tr>\n",
       "  </tbody>\n",
       "</table>\n",
       "</div>"
      ],
      "text/plain": [
       "                step        amount  oldbalanceOrg  newbalanceOrig  \\\n",
       "count  662620.000000  6.626200e+05   6.626200e+05    6.626200e+05   \n",
       "mean      496.740452  1.680283e+05   7.537256e+05    7.689377e+05   \n",
       "std       101.902434  4.109657e+05   2.552330e+06    2.578379e+06   \n",
       "min       398.000000  0.000000e+00   0.000000e+00    0.000000e+00   \n",
       "25%       403.000000  1.305841e+04   0.000000e+00    0.000000e+00   \n",
       "50%       474.000000  7.065667e+04   1.593800e+04    0.000000e+00   \n",
       "75%       573.000000  2.012567e+05   1.076580e+05    1.410075e+05   \n",
       "max       743.000000  1.541594e+07   5.958504e+07    4.958504e+07   \n",
       "\n",
       "       oldbalanceDest  newbalanceDest        isFraud  isFlaggedFraud  \n",
       "count    6.626200e+05    6.626200e+05  662620.000000   662620.000000  \n",
       "mean     1.196791e+06    1.288611e+06       0.005717        0.000018  \n",
       "std      4.109849e+06    4.175612e+06       0.075392        0.004256  \n",
       "min      0.000000e+00    0.000000e+00       0.000000        0.000000  \n",
       "25%      0.000000e+00    0.000000e+00       0.000000        0.000000  \n",
       "50%      1.075769e+05    1.854002e+05       0.000000        0.000000  \n",
       "75%      9.073872e+05    1.045937e+06       0.000000        0.000000  \n",
       "max      3.560159e+08    3.561793e+08       1.000000        1.000000  "
      ]
     },
     "execution_count": 329,
     "metadata": {},
     "output_type": "execute_result"
    }
   ],
   "source": [
    "#see statistical measures\n",
    "df.describe()"
   ]
  },
  {
   "cell_type": "code",
   "execution_count": 330,
   "id": "c337771a",
   "metadata": {},
   "outputs": [
    {
     "data": {
      "text/html": [
       "<div>\n",
       "<style scoped>\n",
       "    .dataframe tbody tr th:only-of-type {\n",
       "        vertical-align: middle;\n",
       "    }\n",
       "\n",
       "    .dataframe tbody tr th {\n",
       "        vertical-align: top;\n",
       "    }\n",
       "\n",
       "    .dataframe thead th {\n",
       "        text-align: right;\n",
       "    }\n",
       "</style>\n",
       "<table border=\"1\" class=\"dataframe\">\n",
       "  <thead>\n",
       "    <tr style=\"text-align: right;\">\n",
       "      <th></th>\n",
       "      <th>type</th>\n",
       "      <th>nameOrig</th>\n",
       "      <th>nameDest</th>\n",
       "    </tr>\n",
       "  </thead>\n",
       "  <tbody>\n",
       "    <tr>\n",
       "      <th>count</th>\n",
       "      <td>662620</td>\n",
       "      <td>662620</td>\n",
       "      <td>662620</td>\n",
       "    </tr>\n",
       "    <tr>\n",
       "      <th>unique</th>\n",
       "      <td>5</td>\n",
       "      <td>662520</td>\n",
       "      <td>534705</td>\n",
       "    </tr>\n",
       "    <tr>\n",
       "      <th>top</th>\n",
       "      <td>PAYMENT</td>\n",
       "      <td>C515118379</td>\n",
       "      <td>C229021471</td>\n",
       "    </tr>\n",
       "    <tr>\n",
       "      <th>freq</th>\n",
       "      <td>229253</td>\n",
       "      <td>2</td>\n",
       "      <td>8</td>\n",
       "    </tr>\n",
       "  </tbody>\n",
       "</table>\n",
       "</div>"
      ],
      "text/plain": [
       "           type    nameOrig    nameDest\n",
       "count    662620      662620      662620\n",
       "unique        5      662520      534705\n",
       "top     PAYMENT  C515118379  C229021471\n",
       "freq     229253           2           8"
      ]
     },
     "execution_count": 330,
     "metadata": {},
     "output_type": "execute_result"
    }
   ],
   "source": [
    "df.describe(include=object)"
   ]
  },
  {
   "cell_type": "code",
   "execution_count": 331,
   "id": "83f382e0",
   "metadata": {},
   "outputs": [
    {
     "data": {
      "text/plain": [
       "step              0\n",
       "type              0\n",
       "amount            0\n",
       "nameOrig          0\n",
       "oldbalanceOrg     0\n",
       "newbalanceOrig    0\n",
       "nameDest          0\n",
       "oldbalanceDest    0\n",
       "newbalanceDest    0\n",
       "isFraud           0\n",
       "isFlaggedFraud    0\n",
       "dtype: int64"
      ]
     },
     "execution_count": 331,
     "metadata": {},
     "output_type": "execute_result"
    }
   ],
   "source": [
    "#check null values in dataset\n",
    "df.isnull().sum()"
   ]
  },
  {
   "cell_type": "code",
   "execution_count": 332,
   "id": "bd8653f2",
   "metadata": {},
   "outputs": [
    {
     "data": {
      "text/plain": [
       "step                 346\n",
       "type                   5\n",
       "amount            645631\n",
       "nameOrig          662520\n",
       "oldbalanceOrg     266819\n",
       "newbalanceOrig    292341\n",
       "nameDest          534705\n",
       "oldbalanceDest    370358\n",
       "newbalanceDest    397176\n",
       "isFraud                2\n",
       "isFlaggedFraud         2\n",
       "dtype: int64"
      ]
     },
     "execution_count": 332,
     "metadata": {},
     "output_type": "execute_result"
    }
   ],
   "source": [
    "#check unique values\n",
    "df.nunique()"
   ]
  },
  {
   "cell_type": "code",
   "execution_count": 333,
   "id": "0b285cd0",
   "metadata": {},
   "outputs": [
    {
     "name": "stdout",
     "output_type": "stream",
     "text": [
      "PAYMENT     229253\n",
      "CASH_OUT    221626\n",
      "CASH_IN     147763\n",
      "TRANSFER     59171\n",
      "DEBIT         4807\n",
      "Name: type, dtype: int64\n"
     ]
    },
    {
     "data": {
      "image/png": "[encoded data removed]",
      "text/plain": [
       "<Figure size 1000x300 with 1 Axes>"
      ]
     },
     "metadata": {},
     "output_type": "display_data"
    }
   ],
   "source": [
    "sns.set(rc={'figure.figsize':(10,3)})\n",
    "df.type.value_counts().plot(kind='bar')\n",
    "print(df.type.value_counts())"
   ]
  },
  {
   "cell_type": "code",
   "execution_count": 335,
   "id": "508d65a1",
   "metadata": {},
   "outputs": [
    {
     "data": {
      "text/html": [
       "<div>\n",
       "<style scoped>\n",
       "    .dataframe tbody tr th:only-of-type {\n",
       "        vertical-align: middle;\n",
       "    }\n",
       "\n",
       "    .dataframe tbody tr th {\n",
       "        vertical-align: top;\n",
       "    }\n",
       "\n",
       "    .dataframe thead th {\n",
       "        text-align: right;\n",
       "    }\n",
       "</style>\n",
       "<table border=\"1\" class=\"dataframe\">\n",
       "  <thead>\n",
       "    <tr style=\"text-align: right;\">\n",
       "      <th></th>\n",
       "      <th>step</th>\n",
       "      <th>amount</th>\n",
       "      <th>oldbalanceOrg</th>\n",
       "      <th>newbalanceOrig</th>\n",
       "      <th>oldbalanceDest</th>\n",
       "      <th>newbalanceDest</th>\n",
       "      <th>isFraud</th>\n",
       "      <th>isFlaggedFraud</th>\n",
       "    </tr>\n",
       "  </thead>\n",
       "  <tbody>\n",
       "    <tr>\n",
       "      <th>step</th>\n",
       "      <td>1.000000</td>\n",
       "      <td>0.010414</td>\n",
       "      <td>-0.039446</td>\n",
       "      <td>-0.041383</td>\n",
       "      <td>-0.007223</td>\n",
       "      <td>-0.007115</td>\n",
       "      <td>0.054679</td>\n",
       "      <td>0.005262</td>\n",
       "    </tr>\n",
       "    <tr>\n",
       "      <th>amount</th>\n",
       "      <td>0.010414</td>\n",
       "      <td>1.000000</td>\n",
       "      <td>0.057252</td>\n",
       "      <td>0.012335</td>\n",
       "      <td>0.144413</td>\n",
       "      <td>0.223091</td>\n",
       "      <td>0.256199</td>\n",
       "      <td>0.055265</td>\n",
       "    </tr>\n",
       "    <tr>\n",
       "      <th>oldbalanceOrg</th>\n",
       "      <td>-0.039446</td>\n",
       "      <td>0.057252</td>\n",
       "      <td>1.000000</td>\n",
       "      <td>0.995378</td>\n",
       "      <td>0.067677</td>\n",
       "      <td>0.052273</td>\n",
       "      <td>0.032013</td>\n",
       "      <td>0.014494</td>\n",
       "    </tr>\n",
       "    <tr>\n",
       "      <th>newbalanceOrig</th>\n",
       "      <td>-0.041383</td>\n",
       "      <td>0.012335</td>\n",
       "      <td>0.995378</td>\n",
       "      <td>1.000000</td>\n",
       "      <td>0.070311</td>\n",
       "      <td>0.051448</td>\n",
       "      <td>-0.014022</td>\n",
       "      <td>0.014323</td>\n",
       "    </tr>\n",
       "    <tr>\n",
       "      <th>oldbalanceDest</th>\n",
       "      <td>-0.007223</td>\n",
       "      <td>0.144413</td>\n",
       "      <td>0.067677</td>\n",
       "      <td>0.070311</td>\n",
       "      <td>1.000000</td>\n",
       "      <td>0.995306</td>\n",
       "      <td>-0.010591</td>\n",
       "      <td>-0.001239</td>\n",
       "    </tr>\n",
       "    <tr>\n",
       "      <th>newbalanceDest</th>\n",
       "      <td>-0.007115</td>\n",
       "      <td>0.223091</td>\n",
       "      <td>0.052273</td>\n",
       "      <td>0.051448</td>\n",
       "      <td>0.995306</td>\n",
       "      <td>1.000000</td>\n",
       "      <td>0.001883</td>\n",
       "      <td>-0.001313</td>\n",
       "    </tr>\n",
       "    <tr>\n",
       "      <th>isFraud</th>\n",
       "      <td>0.054679</td>\n",
       "      <td>0.256199</td>\n",
       "      <td>0.032013</td>\n",
       "      <td>-0.014022</td>\n",
       "      <td>-0.010591</td>\n",
       "      <td>0.001883</td>\n",
       "      <td>1.000000</td>\n",
       "      <td>0.056123</td>\n",
       "    </tr>\n",
       "    <tr>\n",
       "      <th>isFlaggedFraud</th>\n",
       "      <td>0.005262</td>\n",
       "      <td>0.055265</td>\n",
       "      <td>0.014494</td>\n",
       "      <td>0.014323</td>\n",
       "      <td>-0.001239</td>\n",
       "      <td>-0.001313</td>\n",
       "      <td>0.056123</td>\n",
       "      <td>1.000000</td>\n",
       "    </tr>\n",
       "  </tbody>\n",
       "</table>\n",
       "</div>"
      ],
      "text/plain": [
       "                    step    amount  oldbalanceOrg  newbalanceOrig  \\\n",
       "step            1.000000  0.010414      -0.039446       -0.041383   \n",
       "amount          0.010414  1.000000       0.057252        0.012335   \n",
       "oldbalanceOrg  -0.039446  0.057252       1.000000        0.995378   \n",
       "newbalanceOrig -0.041383  0.012335       0.995378        1.000000   \n",
       "oldbalanceDest -0.007223  0.144413       0.067677        0.070311   \n",
       "newbalanceDest -0.007115  0.223091       0.052273        0.051448   \n",
       "isFraud         0.054679  0.256199       0.032013       -0.014022   \n",
       "isFlaggedFraud  0.005262  0.055265       0.014494        0.014323   \n",
       "\n",
       "                oldbalanceDest  newbalanceDest   isFraud  isFlaggedFraud  \n",
       "step                 -0.007223       -0.007115  0.054679        0.005262  \n",
       "amount                0.144413        0.223091  0.256199        0.055265  \n",
       "oldbalanceOrg         0.067677        0.052273  0.032013        0.014494  \n",
       "newbalanceOrig        0.070311        0.051448 -0.014022        0.014323  \n",
       "oldbalanceDest        1.000000        0.995306 -0.010591       -0.001239  \n",
       "newbalanceDest        0.995306        1.000000  0.001883       -0.001313  \n",
       "isFraud              -0.010591        0.001883  1.000000        0.056123  \n",
       "isFlaggedFraud       -0.001239       -0.001313  0.056123        1.000000  "
      ]
     },
     "execution_count": 335,
     "metadata": {},
     "output_type": "execute_result"
    }
   ],
   "source": [
    "#check correlation\n",
    "df.corr()"
   ]
  },
  {
   "cell_type": "code",
   "execution_count": 336,
   "id": "b894c23b",
   "metadata": {},
   "outputs": [
    {
     "name": "stdout",
     "output_type": "stream",
     "text": [
      "step                0.608996\n",
      "amount             12.026515\n",
      "oldbalanceOrg       5.546091\n",
      "newbalanceOrig      5.434244\n",
      "oldbalanceDest     18.505433\n",
      "newbalanceDest     17.868051\n",
      "isFraud            13.112308\n",
      "isFlaggedFraud    234.979964\n",
      "dtype: float64\n"
     ]
    },
    {
     "data": {
      "image/png": "[encoded data removed]",
      "text/plain": [
       "<Figure size 1000x300 with 1 Axes>"
      ]
     },
     "metadata": {},
     "output_type": "display_data"
    }
   ],
   "source": [
    "df.skew().plot(kind='bar')\n",
    "print(df.skew())"
   ]
  },
  {
   "cell_type": "code",
   "execution_count": 337,
   "id": "26515572",
   "metadata": {},
   "outputs": [
    {
     "name": "stdout",
     "output_type": "stream",
     "text": [
      "Index(['step', 'type', 'amount', 'nameOrig', 'oldbalanceOrg', 'newbalanceOrig',\n",
      "       'nameDest', 'oldbalanceDest', 'newbalanceDest', 'isFraud',\n",
      "       'isFlaggedFraud'],\n",
      "      dtype='object')\n"
     ]
    },
    {
     "data": {
      "text/plain": [
       "step                int64\n",
       "type               object\n",
       "amount            float64\n",
       "nameOrig           object\n",
       "oldbalanceOrg     float64\n",
       "newbalanceOrig    float64\n",
       "nameDest           object\n",
       "oldbalanceDest    float64\n",
       "newbalanceDest    float64\n",
       "isFraud             int64\n",
       "isFlaggedFraud      int64\n",
       "dtype: object"
      ]
     },
     "execution_count": 337,
     "metadata": {},
     "output_type": "execute_result"
    }
   ],
   "source": [
    "print(df.columns)\n",
    "df.dtypes"
   ]
  },
  {
   "cell_type": "code",
   "execution_count": 338,
   "id": "54bb1280",
   "metadata": {},
   "outputs": [
    {
     "data": {
      "text/plain": [
       "<AxesSubplot:>"
      ]
     },
     "execution_count": 338,
     "metadata": {},
     "output_type": "execute_result"
    },
    {
     "data": {
      "image/png": "[encoded data removed]",
      "text/plain": [
       "<Figure size 1200x500 with 1 Axes>"
      ]
     },
     "metadata": {},
     "output_type": "display_data"
    }
   ],
   "source": [
    "#Draw boxplot\n",
    "sns.set(rc={'figure.figsize':(12,5)})\n",
    "sns.boxplot(data = df)"
   ]
  },
  {
   "cell_type": "code",
   "execution_count": 339,
   "id": "39b2df67",
   "metadata": {},
   "outputs": [],
   "source": [
    "#convert categorical variable into numerical\n",
    "from sklearn.preprocessing import OrdinalEncoder\n",
    "OE = OrdinalEncoder()\n",
    "df['type'] = OE.fit_transform(df[['type']])"
   ]
  },
  {
   "cell_type": "code",
   "execution_count": 344,
   "id": "20566730",
   "metadata": {},
   "outputs": [
    {
     "data": {
      "text/html": [
       "<div>\n",
       "<style scoped>\n",
       "    .dataframe tbody tr th:only-of-type {\n",
       "        vertical-align: middle;\n",
       "    }\n",
       "\n",
       "    .dataframe tbody tr th {\n",
       "        vertical-align: top;\n",
       "    }\n",
       "\n",
       "    .dataframe thead th {\n",
       "        text-align: right;\n",
       "    }\n",
       "</style>\n",
       "<table border=\"1\" class=\"dataframe\">\n",
       "  <thead>\n",
       "    <tr style=\"text-align: right;\">\n",
       "      <th></th>\n",
       "      <th>step</th>\n",
       "      <th>type</th>\n",
       "      <th>amount</th>\n",
       "      <th>oldbalanceOrg</th>\n",
       "      <th>newbalanceOrig</th>\n",
       "      <th>oldbalanceDest</th>\n",
       "      <th>newbalanceDest</th>\n",
       "      <th>isFraud</th>\n",
       "      <th>isFlaggedFraud</th>\n",
       "    </tr>\n",
       "  </thead>\n",
       "  <tbody>\n",
       "    <tr>\n",
       "      <th>5700000</th>\n",
       "      <td>398</td>\n",
       "      <td>3.0</td>\n",
       "      <td>11049.92</td>\n",
       "      <td>172026.62</td>\n",
       "      <td>160976.70</td>\n",
       "      <td>0.00</td>\n",
       "      <td>0.00</td>\n",
       "      <td>0</td>\n",
       "      <td>0</td>\n",
       "    </tr>\n",
       "    <tr>\n",
       "      <th>5700001</th>\n",
       "      <td>398</td>\n",
       "      <td>1.0</td>\n",
       "      <td>293878.48</td>\n",
       "      <td>99129.00</td>\n",
       "      <td>0.00</td>\n",
       "      <td>73233.24</td>\n",
       "      <td>367111.73</td>\n",
       "      <td>0</td>\n",
       "      <td>0</td>\n",
       "    </tr>\n",
       "    <tr>\n",
       "      <th>5700002</th>\n",
       "      <td>398</td>\n",
       "      <td>1.0</td>\n",
       "      <td>128578.22</td>\n",
       "      <td>31124.00</td>\n",
       "      <td>0.00</td>\n",
       "      <td>380293.23</td>\n",
       "      <td>508871.45</td>\n",
       "      <td>0</td>\n",
       "      <td>0</td>\n",
       "    </tr>\n",
       "    <tr>\n",
       "      <th>5700003</th>\n",
       "      <td>398</td>\n",
       "      <td>0.0</td>\n",
       "      <td>280791.81</td>\n",
       "      <td>17022.00</td>\n",
       "      <td>297813.81</td>\n",
       "      <td>2689280.82</td>\n",
       "      <td>2408489.01</td>\n",
       "      <td>0</td>\n",
       "      <td>0</td>\n",
       "    </tr>\n",
       "    <tr>\n",
       "      <th>5700004</th>\n",
       "      <td>398</td>\n",
       "      <td>1.0</td>\n",
       "      <td>37678.62</td>\n",
       "      <td>297813.81</td>\n",
       "      <td>260135.20</td>\n",
       "      <td>77720.16</td>\n",
       "      <td>115398.78</td>\n",
       "      <td>0</td>\n",
       "      <td>0</td>\n",
       "    </tr>\n",
       "    <tr>\n",
       "      <th>...</th>\n",
       "      <td>...</td>\n",
       "      <td>...</td>\n",
       "      <td>...</td>\n",
       "      <td>...</td>\n",
       "      <td>...</td>\n",
       "      <td>...</td>\n",
       "      <td>...</td>\n",
       "      <td>...</td>\n",
       "      <td>...</td>\n",
       "    </tr>\n",
       "    <tr>\n",
       "      <th>6362615</th>\n",
       "      <td>743</td>\n",
       "      <td>1.0</td>\n",
       "      <td>339682.13</td>\n",
       "      <td>339682.13</td>\n",
       "      <td>0.00</td>\n",
       "      <td>0.00</td>\n",
       "      <td>339682.13</td>\n",
       "      <td>1</td>\n",
       "      <td>0</td>\n",
       "    </tr>\n",
       "    <tr>\n",
       "      <th>6362616</th>\n",
       "      <td>743</td>\n",
       "      <td>4.0</td>\n",
       "      <td>6311409.28</td>\n",
       "      <td>6311409.28</td>\n",
       "      <td>0.00</td>\n",
       "      <td>0.00</td>\n",
       "      <td>0.00</td>\n",
       "      <td>1</td>\n",
       "      <td>0</td>\n",
       "    </tr>\n",
       "    <tr>\n",
       "      <th>6362617</th>\n",
       "      <td>743</td>\n",
       "      <td>1.0</td>\n",
       "      <td>6311409.28</td>\n",
       "      <td>6311409.28</td>\n",
       "      <td>0.00</td>\n",
       "      <td>68488.84</td>\n",
       "      <td>6379898.11</td>\n",
       "      <td>1</td>\n",
       "      <td>0</td>\n",
       "    </tr>\n",
       "    <tr>\n",
       "      <th>6362618</th>\n",
       "      <td>743</td>\n",
       "      <td>4.0</td>\n",
       "      <td>850002.52</td>\n",
       "      <td>850002.52</td>\n",
       "      <td>0.00</td>\n",
       "      <td>0.00</td>\n",
       "      <td>0.00</td>\n",
       "      <td>1</td>\n",
       "      <td>0</td>\n",
       "    </tr>\n",
       "    <tr>\n",
       "      <th>6362619</th>\n",
       "      <td>743</td>\n",
       "      <td>1.0</td>\n",
       "      <td>850002.52</td>\n",
       "      <td>850002.52</td>\n",
       "      <td>0.00</td>\n",
       "      <td>6510099.11</td>\n",
       "      <td>7360101.63</td>\n",
       "      <td>1</td>\n",
       "      <td>0</td>\n",
       "    </tr>\n",
       "  </tbody>\n",
       "</table>\n",
       "<p>662620 rows × 9 columns</p>\n",
       "</div>"
      ],
      "text/plain": [
       "         step  type      amount  oldbalanceOrg  newbalanceOrig  \\\n",
       "5700000   398   3.0    11049.92      172026.62       160976.70   \n",
       "5700001   398   1.0   293878.48       99129.00            0.00   \n",
       "5700002   398   1.0   128578.22       31124.00            0.00   \n",
       "5700003   398   0.0   280791.81       17022.00       297813.81   \n",
       "5700004   398   1.0    37678.62      297813.81       260135.20   \n",
       "...       ...   ...         ...            ...             ...   \n",
       "6362615   743   1.0   339682.13      339682.13            0.00   \n",
       "6362616   743   4.0  6311409.28     6311409.28            0.00   \n",
       "6362617   743   1.0  6311409.28     6311409.28            0.00   \n",
       "6362618   743   4.0   850002.52      850002.52            0.00   \n",
       "6362619   743   1.0   850002.52      850002.52            0.00   \n",
       "\n",
       "         oldbalanceDest  newbalanceDest  isFraud  isFlaggedFraud  \n",
       "5700000            0.00            0.00        0               0  \n",
       "5700001        73233.24       367111.73        0               0  \n",
       "5700002       380293.23       508871.45        0               0  \n",
       "5700003      2689280.82      2408489.01        0               0  \n",
       "5700004        77720.16       115398.78        0               0  \n",
       "...                 ...             ...      ...             ...  \n",
       "6362615            0.00       339682.13        1               0  \n",
       "6362616            0.00            0.00        1               0  \n",
       "6362617        68488.84      6379898.11        1               0  \n",
       "6362618            0.00            0.00        1               0  \n",
       "6362619      6510099.11      7360101.63        1               0  \n",
       "\n",
       "[662620 rows x 9 columns]"
      ]
     },
     "execution_count": 344,
     "metadata": {},
     "output_type": "execute_result"
    }
   ],
   "source": [
    "df = df.drop(['nameOrig','nameDest'], axis = 'columns')\n",
    "df"
   ]
  },
  {
   "cell_type": "code",
   "execution_count": 345,
   "id": "6d696439",
   "metadata": {
    "scrolled": true
   },
   "outputs": [],
   "source": [
    "a = df.drop(['isFraud'], axis = 'columns')\n",
    "b = df['isFraud']"
   ]
  },
  {
   "cell_type": "code",
   "execution_count": 348,
   "id": "64ffb893",
   "metadata": {},
   "outputs": [],
   "source": [
    "from sklearn.preprocessing import StandardScaler\n",
    "SS = StandardScaler()\n",
    "a = SS.fit_transform(a)"
   ]
  },
  {
   "cell_type": "code",
   "execution_count": 349,
   "id": "e19929a5",
   "metadata": {},
   "outputs": [],
   "source": [
    "# Split the data into X and y\n",
    "X = a  # Exclude the 'isFraud' column from input features\n",
    "y = b  # Target variable"
   ]
  },
  {
   "cell_type": "code",
   "execution_count": 350,
   "id": "6b171dd0",
   "metadata": {},
   "outputs": [
    {
     "name": "stdout",
     "output_type": "stream",
     "text": [
      "(530096, 8)\n",
      "(132524, 8)\n",
      "(530096,)\n",
      "(132524,)\n"
     ]
    }
   ],
   "source": [
    "from sklearn.model_selection import train_test_split\n",
    "X_train, X_test, y_train, y_test = train_test_split(X, y, test_size=0.2, random_state = 5)\n",
    "print(X_train.shape)\n",
    "print(X_test.shape)\n",
    "print(y_train.shape)\n",
    "print(y_test.shape)"
   ]
  },
  {
   "cell_type": "code",
   "execution_count": 351,
   "id": "ae7f324a",
   "metadata": {},
   "outputs": [],
   "source": [
    "from sklearn.svm import SVC\n",
    "from sklearn.tree import DecisionTreeClassifier\n",
    "from sklearn.neighbors import KNeighborsClassifier\n",
    "from sklearn.ensemble import RandomForestClassifier\n",
    "from sklearn.ensemble import GradientBoostingClassifier\n",
    "from sklearn.linear_model import LogisticRegression"
   ]
  },
  {
   "cell_type": "code",
   "execution_count": 354,
   "id": "f22f8192",
   "metadata": {},
   "outputs": [
    {
     "name": "stdout",
     "output_type": "stream",
     "text": [
      "0.9982965349672512\n",
      "0.9982644653043977\n"
     ]
    }
   ],
   "source": [
    "dtc = DecisionTreeClassifier(max_depth = 5, random_state = 1)\n",
    "dtc.fit(X_train, y_train)\n",
    "train_score = dtc.score(X_train, y_train)\n",
    "test_score = dtc.score(X_test, y_test)\n",
    "print(train_score)\n",
    "print(test_score)"
   ]
  },
  {
   "cell_type": "code",
   "execution_count": 353,
   "id": "713893b0",
   "metadata": {},
   "outputs": [
    {
     "name": "stdout",
     "output_type": "stream",
     "text": [
      "0.9968722646464037\n",
      "0.9968760375479159\n"
     ]
    }
   ],
   "source": [
    "LR = LogisticRegression()\n",
    "LR.fit(X_train,y_train)\n",
    "print(LR.score(X_train, y_train))\n",
    "print(LR.score(X_test, y_test))"
   ]
  },
  {
   "cell_type": "code",
   "execution_count": 355,
   "id": "a2a13391",
   "metadata": {},
   "outputs": [
    {
     "name": "stdout",
     "output_type": "stream",
     "text": [
      "Best Hyperparameters: {'max_depth': 15, 'min_samples_split': 2, 'n_estimators': 30}\n"
     ]
    }
   ],
   "source": [
    "from sklearn.model_selection import GridSearchCV, KFold\n",
    "from sklearn.metrics import accuracy_score\n",
    "\n",
    "# Define the parameter grid to search over\n",
    "param_grid = {\n",
    "    'n_estimators': [10, 20, 30],\n",
    "    'max_depth': [5, 10, 15],\n",
    "    'min_samples_split': [2, 5, 10]\n",
    "}\n",
    "\n",
    "# Create the model\n",
    "model = RandomForestClassifier()\n",
    "\n",
    "# Perform grid search with cross-validation\n",
    "grid_search = GridSearchCV(model, param_grid, cv=5, scoring='accuracy')\n",
    "grid_search.fit(X_train, y_train)\n",
    "\n",
    "# Get the best hyperparameters\n",
    "best_params = grid_search.best_params_\n",
    "print(\"Best Hyperparameters:\", best_params)"
   ]
  },
  {
   "cell_type": "code",
   "execution_count": 356,
   "id": "9912569d",
   "metadata": {},
   "outputs": [
    {
     "name": "stdout",
     "output_type": "stream",
     "text": [
      "Validation Accuracy: 0.9987926715161027\n"
     ]
    }
   ],
   "source": [
    "# Evaluate the model with the best hyperparameters on the validation set\n",
    "best_model = grid_search.best_estimator_\n",
    "y_pred = best_model.predict(X_test)\n",
    "accuracy = accuracy_score(y_test, y_pred)\n",
    "print(\"Validation Accuracy:\", accuracy)"
   ]
  },
  {
   "cell_type": "code",
   "execution_count": 358,
   "id": "d1a06669",
   "metadata": {},
   "outputs": [
    {
     "name": "stdout",
     "output_type": "stream",
     "text": [
      "accuracy_score: 0.9987926715161027\n",
      "f1_score: 0.9392736918359352\n"
     ]
    },
    {
     "data": {
      "text/plain": [
       "array([[131782,      6],\n",
       "       [   154,    582]], dtype=int64)"
      ]
     },
     "execution_count": 358,
     "metadata": {},
     "output_type": "execute_result"
    }
   ],
   "source": [
    "print('accuracy_score:',accuracy_score(y_test, y_pred))\n",
    "print('f1_score:',f1_score(y_test,y_pred, average = 'macro'))\n",
    "cm = confusion_matrix(y_test,y_pred)\n",
    "cm"
   ]
  },
  {
   "cell_type": "code",
   "execution_count": 359,
   "id": "4d4929b3",
   "metadata": {},
   "outputs": [
    {
     "name": "stdout",
     "output_type": "stream",
     "text": [
      "              precision    recall  f1-score   support\n",
      "\n",
      "           0       1.00      1.00      1.00    131788\n",
      "           1       0.99      0.79      0.88       736\n",
      "\n",
      "    accuracy                           1.00    132524\n",
      "   macro avg       0.99      0.90      0.94    132524\n",
      "weighted avg       1.00      1.00      1.00    132524\n",
      "\n"
     ]
    }
   ],
   "source": [
    "print(classification_report(y_test, y_pred))"
   ]
  },
  {
   "cell_type": "code",
   "execution_count": 360,
   "id": "3d2d4599",
   "metadata": {},
   "outputs": [
    {
     "data": {
      "image/png": "[encoded data removed]",
      "text/plain": [
       "<Figure size 1000x500 with 1 Axes>"
      ]
     },
     "metadata": {},
     "output_type": "display_data"
    }
   ],
   "source": [
    "sns.set(rc={'figure.figsize':(10,5)})\n",
    "\n",
    "# ROC curve and AUC\n",
    "fpr, tpr, thresholds = roc_curve(y_test, y_pred)\n",
    "roc_auc = auc(fpr, tpr)\n",
    "plt.plot(fpr, tpr, label='ROC curve (area = %0.2f)' % roc_auc)\n",
    "plt.plot([0, 1], [0, 1], 'm-')\n",
    "plt.xlim([-0.1, 1.1])\n",
    "plt.ylim([-0.1, 1.1])\n",
    "plt.xlabel('False Positive Rate')\n",
    "plt.ylabel('True Positive Rate')\n",
    "plt.title('ROC Curve')\n",
    "plt.legend()\n",
    "plt.show()"
   ]
  },
  {
   "cell_type": "code",
   "execution_count": 361,
   "id": "a4b0962a",
   "metadata": {},
   "outputs": [
    {
     "data": {
      "image/png": "[encoded data removed]",
      "text/plain": [
       "<Figure size 1000x500 with 2 Axes>"
      ]
     },
     "metadata": {},
     "output_type": "display_data"
    }
   ],
   "source": [
    "plot_confusion_matrix(best_model, X_test, y_test);"
   ]
  },
  {
   "cell_type": "markdown",
   "id": "87a07ee5",
   "metadata": {},
   "source": [
    "### 1. Data cleaning including missing values, outliers and multi-collinearity."
   ]
  },
  {
   "cell_type": "markdown",
   "id": "42f7c7a3",
   "metadata": {},
   "source": [
    "Data cleaning is an essential step in preparing the data for analysis and modeling. It involves handling missing values, outliers, and addressing multi-collinearity. Let's discuss each of these aspects in detail:\n",
    "\n",
    "1. Handling Missing Values:\n",
    "   - Identify the columns with missing values and assess the extent of missingness.\n",
    "   - Some common approaches include:\n",
    "     - Removing rows or columns with a high percentage of missing values if they are not critical for the analysis.\n",
    "     - Imputing missing values using techniques like mean, median, mode.\n",
    "\n",
    "2. Dealing with Outliers:\n",
    "   - Identify outliers in the data, which are extreme values that deviate significantly from the majority of the data points.\n",
    "   - Some approaches to handle outliers include:\n",
    "\n",
    "3. Addressing Multi-collinearity:\n",
    "   - Multi-collinearity refers to high correlation or dependency between predictor variables in a regression or machine learning model.\n",
    "   - To address multi-collinearity, consider the following approaches:\n",
    "     - Removing one or more highly correlated variables if they carry redundant information.\n",
    "\n",
    "Overall, data cleaning helps ensure the quality and reliability of the data used for analysis. It reduces biases, improves the accuracy of the models, and ensures the validity of the insights derived from the data."
   ]
  },
  {
   "cell_type": "markdown",
   "id": "e877398a",
   "metadata": {},
   "source": [
    "### 2. Describe fraud detection model in elaboration."
   ]
  },
  {
   "cell_type": "markdown",
   "id": "2bb49f60",
   "metadata": {},
   "source": [
    "The fraud detection model is designed to identify and classify fraudulent transactions within a financial company's dataset. It uses machine learning techniques to learn patterns and anomalies associated with fraudulent behavior and makes predictions on new transactions to determine their likelihood of being fraudulent. Here's an elaboration on the fraud detection model:\n",
    "\n",
    "1. Data Preprocessing:\n",
    "   - The model starts by preprocessing the data, which includes steps like data cleaning, handling missing values, and feature engineering.\n",
    "   - Feature engineering involves creating new variables or transforming existing variables to capture relevant information for fraud detection.\n",
    "\n",
    "2. Feature Selection:\n",
    "   - The model selects the most relevant features from the dataset to use for training.\n",
    "   - Feature selection can be done through techniques such as correlation analysis, feature importance ranking, or dimensionality reduction methods.\n",
    "   - The selected features should have a strong association with fraudulent behavior and help the model distinguish between fraudulent and legitimate transactions.\n",
    "\n",
    "3. Model Training:\n",
    "   - Various machine learning algorithms can be used to train the fraud detection model, such as logistic regression, decision trees.\n",
    "   - The model is trained using a labeled dataset, where transactions are labeled as fraudulent or non-fraudulent.\n",
    "   - During training, the model learns the patterns and characteristics of fraudulent transactions from the labeled data.\n",
    "\n",
    "4. Model Evaluation:\n",
    "   - The trained model is evaluated using evaluation metrics such as accuracy, precision, recall, F1 score, and AUC-ROC.\n",
    "   - Cross-validation techniques are employed to assess the model's performance and validate its generalizability.\n",
    "   - The model's performance is compared against baseline models or industry standards to determine its effectiveness in detecting fraud.\n",
    "\n",
    "5. Prediction and Classification:\n",
    "   - Once the model is trained and evaluated, it is ready to make predictions on new, unseen transactions.\n",
    "   - The model assigns a probability or score to each transaction, indicating the likelihood of it being fraudulent.\n",
    "   - A threshold is set to classify transactions as fraudulent or non-fraudulent based on the assigned probabilities or scores.\n",
    "\n",
    "6. Model Iteration and Improvement:\n",
    "   - The fraud detection model is an iterative process, and continuous monitoring and improvement are crucial.\n",
    "   - The model's performance is regularly assessed, and adjustments are made as new fraudulent patterns emerge or as the dataset evolves.\n",
    "   - Feedback from fraud analysts, domain experts, or stakeholders is incorporated to refine the model and enhance its accuracy and effectiveness.\n",
    "\n",
    "The fraud detection model aims to minimize false positives (flagging legitimate transactions as fraudulent) and false negatives (failing to identify actual fraudulent transactions). It leverages machine learning algorithms and techniques to analyze transactional patterns and detect anomalies that indicate fraudulent behavior. The model's performance and accuracy are critical for effective fraud prevention and mitigating financial risks for the company."
   ]
  },
  {
   "cell_type": "markdown",
   "id": "2ed92199",
   "metadata": {},
   "source": [
    "### 3. Select variables to be included in the model."
   ]
  },
  {
   "cell_type": "markdown",
   "id": "3d613892",
   "metadata": {},
   "source": [
    "1. Domain Knowledge: \n",
    "   - Start by consulting domain experts, fraud analysts, or stakeholders who possess expertise in the specific industry or domain.\n",
    "   - Gather insights on the potential indicators of fraudulent activity and the variables that are likely to be associated with fraudulent behavior.\n",
    "   - Domain knowledge plays a vital role in understanding the business context and identifying the relevant variables to include in the model.\n",
    "\n",
    "2. Exploratory Data Analysis (EDA):\n",
    "   - Perform exploratory data analysis to gain insights into the dataset and the relationships between variables.\n",
    "   - Visualize the data, calculate summary statistics, and identify patterns or trends that may indicate fraudulent behavior.\n",
    "   - Look for variables that show significant differences between fraudulent and non-fraudulent transactions.\n",
    "   - Consider variables related to transaction attributes, customer information, time-based features, or any other relevant factors that may impact fraud.\n",
    "\n",
    "3. Feature Importance Techniques:\n",
    "   - Utilize feature importance techniques to identify variables that have the most predictive power in distinguishing fraudulent transactions.\n",
    "   - Select the top-ranked features that contribute the most to the model's predictive performance.\n",
    "\n",
    "4. Correlation Analysis:\n",
    "   - Analyze the correlation between variables to identify any redundant or highly correlated features.\n",
    "   - Highly correlated variables may introduce multi-collinearity and can impact the model's performance.\n",
    "\n",
    "5. Iterative Feature Selection:\n",
    "   - Use iterative feature selection methods to systematically evaluate subsets of variables and assess their impact on the model's performance.\n",
    "   - Techniques like forward selection, backward elimination, or recursive feature elimination can help identify the optimal subset of variables.\n",
    "   - Evaluate the model's performance with different feature combinations and select the set of variables that achieve the best balance between accuracy and simplicity.\n",
    "\n",
    "6. Iterative Model Evaluation:\n",
    "   - As the model training progresses, continuously evaluate the performance of the model using validation or testing datasets.\n",
    "   - Monitor the impact of different variables on the model's metrics (e.g., accuracy, precision, recall) and make adjustments if necessary.\n",
    "   - Incorporate feedback from fraud analysts or domain experts to refine the variable selection and improve the model's effectiveness.\n",
    "\n",
    "The process of variable selection is iterative and involves a combination of domain knowledge, data exploration, and statistical techniques. It is crucial to strike a balance between including enough relevant variables to capture fraud patterns and avoiding overfitting or including irrelevant variables that may introduce noise into the model."
   ]
  },
  {
   "cell_type": "markdown",
   "id": "ffb8d465",
   "metadata": {},
   "source": [
    "### 4. Demonstrate the performance of the model by using best set of tools."
   ]
  },
  {
   "cell_type": "markdown",
   "id": "0459c21a",
   "metadata": {},
   "source": [
    "1. Confusion Matrix: \n",
    "   - A confusion matrix provides a tabular summary of the model's predictions compared to the actual labels.\n",
    "   - It helps evaluate the model's performance by calculating metrics such as accuracy, precision, recall, and F1 score.\n",
    "   - The confusion matrix allows us to assess the true positives, true negatives, false positives, and false negatives.\n",
    "\n",
    "2. ROC Curve and AUC-ROC:\n",
    "   - The ROC (Receiver Operating Characteristic) curve is a graphical representation of the model's performance at various classification thresholds.\n",
    "   - It plots the true positive rate (sensitivity) against the false positive rate (1-specificity).\n",
    "   - The Area Under the ROC Curve (AUC-ROC) is a metric that quantifies the overall performance of the model, with a higher AUC indicating better performance.\n",
    "   - AUC-ROC helps assess the model's ability to discriminate between fraudulent and non-fraudulent transactions.\n",
    "\n",
    "3. Precision-Recall Curve:\n",
    "   - The precision-recall curve illustrates the trade-off between precision (positive predictive value) and recall (sensitivity) at different classification thresholds.\n",
    "   - It provides insights into the model's performance in identifying true positives while minimizing false positives.\n",
    "   - The area under the precision-recall curve (AUC-PR) is another metric that measures the overall performance of the model.\n",
    "\n",
    "4. Cross-Validation:\n",
    "   - Cross-validation is a technique to assess the model's performance by splitting the data into multiple subsets.\n",
    "   - It helps estimate the model's performance on unseen data and evaluates its generalizability.\n",
    "   - Techniques like k-fold cross-validation or stratified cross-validation can be used to validate the model's performance across different subsets of the data.\n",
    "\n",
    "5. Model Evaluation Metrics:\n",
    "   - Besides accuracy, precision, recall, F1 score, AUC-ROC, and AUC-PR, other evaluation metrics like specificity, false positive rate, or negative predictive value can provide a comprehensive understanding of the model's performance.\n",
    "   - It is important to consider these metrics in the context of the specific requirements and goals of the fraud detection task.\n",
    "\n",
    "6. Visualizations:\n",
    "   - Visualizations can be powerful tools to showcase the model's performance and interpretability.\n",
    "   - Plots such as bar charts, histograms, or line graphs can illustrate the distribution of predicted probabilities, feature importance rankings, or comparison of performance across different models or techniques.\n",
    "\n",
    "The choice of tools depends on the specific requirements, dataset, and the preferences of the stakeholders. It is recommended to use a combination of these tools to provide a comprehensive evaluation of the model's performance, showcasing its strengths and limitations in detecting fraudulent transactions."
   ]
  },
  {
   "cell_type": "markdown",
   "id": "316e0365",
   "metadata": {},
   "source": [
    "### 5. Key factors that predict fraudulent customer."
   ]
  },
  {
   "cell_type": "markdown",
   "id": "ce41df7e",
   "metadata": {},
   "source": [
    "1. Transaction Amount:\n",
    "   - Fraudulent transactions may involve unusually large or small amounts of money compared to legitimate transactions.\n",
    "   - High-value transactions may indicate attempts to transfer funds to another account before cashing out.\n",
    "   - Low-value transactions may be used to test stolen credit cards or validate account details.\n",
    "\n",
    "2. Transaction Frequency and Velocity:\n",
    "   - Fraudsters often perform a high volume of transactions within a short period to exploit vulnerabilities or evade detection.\n",
    "   - Unusual transaction frequency, rapid succession of transactions, or sudden spikes in activity can be indicators of fraudulent behavior.\n",
    "\n",
    "3. Customer Behavior Deviation:\n",
    "   - Fraudulent customers may exhibit deviations from their typical transaction behavior.\n",
    "   - Changes in transaction patterns, such as different transaction types, unusual timing, or unfamiliar beneficiary accounts, can signal fraudulent activity.\n",
    "\n",
    "4. Device and Browser Information:\n",
    "   - Fraudsters may use multiple devices or browsers to carry out fraudulent transactions.\n",
    "   - Inconsistent device information, multiple account logins from different devices, or the use of virtual machines can be red flags.\n",
    "\n",
    "5. Machine Learning Models:\n",
    "   - Utilizing machine learning models can automatically identify and weigh the importance of various features in predicting fraudulent customers.\n",
    "   - Advanced techniques like anomaly detection, clustering, or ensemble models can capture complex patterns and identify key predictive factors.\n",
    "\n",
    "It's important to note that the key factors for predicting fraudulent customers can evolve over time as fraudsters adapt their strategies. Therefore, a proactive approach that combines domain knowledge, data exploration, and advanced analytical techniques is crucial for staying ahead of emerging fraud trends and continuously improving the fraud detection models."
   ]
  },
  {
   "cell_type": "markdown",
   "id": "04c3f621",
   "metadata": {},
   "source": [
    "### 6. Factors which make sense."
   ]
  },
  {
   "cell_type": "markdown",
   "id": "879807c5",
   "metadata": {},
   "source": [
    "The factors mentioned for predicting fraudulent customers generally make sense in the context of fraud detection. Here's an explanation of why these factors are relevant:\n",
    "\n",
    "1. Transaction Amount: Unusual transaction amounts can indicate fraudulent behavior as fraudsters often try to exploit the system by transferring large sums or making small test transactions.\n",
    "\n",
    "2. Transaction Frequency and Velocity: Fraudsters may perform a high volume of transactions within a short time frame to quickly exploit vulnerabilities or evade detection. Unusual transaction frequency or rapid succession of transactions can be a red flag.\n",
    "\n",
    "3. Customer Behavior Deviation: Fraudulent customers often deviate from their normal transaction patterns. Changes in transaction types, timing, or beneficiary accounts can be indicators of fraudulent activity.\n",
    "\n",
    "4. IP Address and Geolocation: Analyzing the IP address and geolocation associated with transactions helps identify potential fraud. Transactions from high-risk regions or known fraudulent IP addresses raise suspicion.\n",
    "\n",
    "5. Device and Browser Information: Inconsistent device information, multiple logins from different devices, or the use of virtual machines can be signs of fraudulent activity.\n",
    "\n",
    "6. Account Age and History: Newly created accounts or accounts with limited transaction history may be more susceptible to fraud. Analyzing account age and historical transaction patterns helps identify suspicious behavior.\n",
    "\n",
    "7. Social Network Analysis: Fraudsters often operate in networks or collaborate with others. Analyzing relationships between accounts can uncover patterns of fraudulent behavior.\n",
    "\n",
    "8. Machine Learning Models: Machine learning models can automatically identify and weigh the importance of different features in predicting fraud. They can capture complex patterns and adapt to evolving fraud trends.\n",
    "\n",
    "While these factors make sense in general, it's important to note that fraudsters constantly adapt their strategies to evade detection. Therefore, it's crucial to continuously update and refine the fraud detection models and incorporate new features or techniques as fraud patterns evolve. Additionally, it's important to consider that each dataset and business context may have unique factors that are specific to their industry or customer behavior, which should also be taken into account when building a fraud detection model."
   ]
  },
  {
   "cell_type": "markdown",
   "id": "04f8b0a7",
   "metadata": {},
   "source": [
    "### 7. Kind of prevention should be adopted while company update its infrastructure."
   ]
  },
  {
   "cell_type": "markdown",
   "id": "b9954094",
   "metadata": {},
   "source": [
    "1. Robust Authentication and Authorization:\n",
    "   - Implement multi-factor authentication (MFA) to ensure stronger user authentication.\n",
    "   - Utilize biometric authentication methods, such as fingerprint or facial recognition, for added security.\n",
    "   - Enhance authorization mechanisms to restrict access privileges and enforce strict user permissions.\n",
    "\n",
    "2. Real-time Monitoring and Alerting:\n",
    "   - Deploy advanced monitoring systems to detect suspicious activities and anomalies in real-time.\n",
    "   - Set up alerts and notifications for potential fraudulent transactions or unauthorized access attempts.\n",
    "   - Implement intelligent systems that can detect patterns indicative of fraudulent behavior, such as unexpected changes in transaction patterns or deviations from normal user behavior.\n",
    "\n",
    "3. Machine Learning and AI-Based Fraud Detection:\n",
    "   - Utilize machine learning and AI algorithms to develop predictive models that can identify and flag potentially fraudulent transactions.\n",
    "   - Train the models using historical fraud data and continuously update them with new fraud patterns and trends.\n",
    "   - Implement anomaly detection techniques to identify unusual or abnormal behavior in real-time.\n",
    "\n",
    "4. Data Encryption and Secure Storage:\n",
    "   - Encrypt sensitive customer data both during transmission and at rest to prevent unauthorized access.\n",
    "   - Implement secure storage mechanisms, such as encrypted databases or secure cloud storage, to protect customer information.\n",
    "   - Regularly update encryption protocols and algorithms to stay ahead of potential security vulnerabilities.\n",
    "\n",
    "5. Employee Training and Awareness:\n",
    "   - Conduct regular training sessions to educate employees about fraud prevention techniques and best practices.\n",
    "   - Promote a culture of security awareness and vigilance among employees, encouraging them to report any suspicious activities or potential security threats.\n",
    "   - Establish clear guidelines and protocols for handling sensitive customer information and emphasize the importance of data protection.\n",
    "\n",
    "6. Collaboration and Information Sharing:\n",
    "   - Foster collaborations with industry partners, regulatory bodies, and law enforcement agencies to share information and stay updated on the latest fraud trends and prevention strategies.\n",
    "   - Participate in industry-wide initiatives or consortiums that focus on sharing fraud intelligence and best practices.\n",
    "\n",
    "7. Regular Security Audits and Penetration Testing:\n",
    "   - Conduct periodic security audits and vulnerability assessments to identify potential weaknesses in the infrastructure.\n",
    "   - Perform penetration testing to simulate real-world attacks and identify any vulnerabilities that could be exploited by fraudsters.\n",
    "   - Regularly update and patch systems to address any identified vulnerabilities.\n",
    "\n",
    "By adopting these preventive measures, the financial company can strengthen its infrastructure and significantly reduce the risk of fraudulent activities. However, it's important to note that fraud prevention is an ongoing process, and the company should continuously monitor and adapt its strategies to stay ahead of evolving fraud tactics."
   ]
  },
  {
   "cell_type": "markdown",
   "id": "fae4b535",
   "metadata": {},
   "source": [
    "### 8. These actions have been implemented."
   ]
  },
  {
   "cell_type": "markdown",
   "id": "b14f71a2",
   "metadata": {},
   "source": [
    "To determine if the implemented actions for fraud prevention are effective, you can employ the following evaluation methods:\n",
    "\n",
    "1. Performance Metrics: Monitor and analyze key performance metrics related to fraud detection and prevention. These metrics may include:\n",
    "   - False Positive Rate: Measure the rate at which legitimate transactions are incorrectly flagged as fraudulent.\n",
    "   - False Negative Rate: Measure the rate at which fraudulent transactions go undetected.\n",
    "   - Precision: Calculate the proportion of correctly identified fraudulent transactions out of all transactions flagged as fraudulent.\n",
    "   - Recall or True Positive Rate: Measure the proportion of actual fraudulent transactions correctly identified by the system.\n",
    "   - F1 Score: Consider the balance between precision and recall, providing a single metric to evaluate the model's performance.\n",
    "   - AUC-ROC: Evaluate the model's ability to distinguish between fraudulent and non-fraudulent transactions across various thresholds.\n",
    "\n",
    "2. Comparative Analysis: Compare the performance of the fraud prevention measures before and after their implementation. This can be done by evaluating historical data or conducting controlled experiments. Assess whether there is a noticeable improvement in fraud detection rates, reduction in false positives, or increased accuracy compared to previous periods or baseline models.\n",
    "\n",
    "3. Case Studies and Investigations: Examine specific cases of detected fraudulent transactions and investigate whether the implemented measures successfully identified and prevented them. Analyze the details of the flagged transactions, including the factors that triggered the detection, the actions taken, and the outcomes. This qualitative analysis can provide insights into the effectiveness of the prevention measures.\n",
    "\n",
    "4. Feedback and Reporting: Establish a feedback mechanism where users, customers, or employees can report suspicious activities or provide feedback on the system's performance. Regularly review and analyze this feedback to identify any potential gaps or areas for improvement.\n",
    "\n",
    "6. Continuous Monitoring and Adaptation: Implement a continuous monitoring system to track the performance of the fraud prevention measures over time. Regularly review and update the prevention strategies based on emerging fraud patterns, industry trends, and feedback from stakeholders."
   ]
  }
 ],
 "metadata": {
  "kernelspec": {
   "display_name": "Python 3 (ipykernel)",
   "language": "python",
   "name": "python3"
  },
  "language_info": {
   "codemirror_mode": {
    "name": "ipython",
    "version": 3
   },
   "file_extension": ".py",
   "mimetype": "text/x-python",
   "name": "python",
   "nbconvert_exporter": "python",
   "pygments_lexer": "ipython3",
   "version": "3.9.13"
  }
 },
 "nbformat": 4,
 "nbformat_minor": 5
}
